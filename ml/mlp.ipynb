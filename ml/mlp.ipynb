{
 "cells": [
  {
   "cell_type": "code",
   "execution_count": 1,
   "id": "c8e4dea3-a819-460a-8da1-6a9824e54d8b",
   "metadata": {},
   "outputs": [],
   "source": [
    "import torch\n",
    "from torch import nn\n",
    "import torch.nn.functional as F\n",
    "import torchvision"
   ]
  },
  {
   "cell_type": "code",
   "execution_count": 20,
   "id": "544fbce3-8ef1-4b94-9b5c-b3bef785d668",
   "metadata": {},
   "outputs": [],
   "source": [
    "class MLP(nn.Module):\n",
    "    def __init__(self, input_size, hidden_size, output_size):\n",
    "        super(MLP, self).__init__()\n",
    "        self.fc1 = nn.Linear(input_size, hidden_size)\n",
    "        self.fc2 = nn.Linear(hidden_size, hidden_size)\n",
    "        self.fc3 = nn.Linear(hidden_size, output_size)\n",
    "        \n",
    "    def forward(self, X):\n",
    "        X = X.view(X.size(0), -1)\n",
    "        X = self.fc1(X)\n",
    "        X = F.relu(X)\n",
    "        X = self.fc2(X)\n",
    "        X = F.relu(X)\n",
    "        X = self.fc3(X)\n",
    "        return X\n"
   ]
  },
  {
   "cell_type": "code",
   "execution_count": 21,
   "id": "341e0129-0124-4707-9473-31c4ab66f9e9",
   "metadata": {},
   "outputs": [],
   "source": [
    "from torchvision import datasets, transforms\n",
    "from torch.utils.data import DataLoader"
   ]
  },
  {
   "cell_type": "code",
   "execution_count": 22,
   "id": "ed08080d-ffa6-4f68-9113-c27348840ac5",
   "metadata": {},
   "outputs": [],
   "source": [
    "transform = transforms.Compose([\n",
    "    transforms.ToTensor(),\n",
    "    transforms.Normalize((0.5), (0.5)),\n",
    "])"
   ]
  },
  {
   "cell_type": "code",
   "execution_count": 23,
   "id": "eb744991-4ab5-4e20-97cd-da8340aa30aa",
   "metadata": {},
   "outputs": [],
   "source": [
    "train_dataset = datasets.FashionMNIST(\n",
    "    root=\"./data\",\n",
    "    train=True,\n",
    "    download=True,\n",
    "    transform=transform\n",
    ")\n",
    "\n",
    "test_dataset = datasets.FashionMNIST(\n",
    "    root=\"./data\",\n",
    "    train=True,\n",
    "    download=True,\n",
    "    transform=transform\n",
    ")"
   ]
  },
  {
   "cell_type": "code",
   "execution_count": 24,
   "id": "5fcf4769-3f3e-4ed3-bd26-684b11237e10",
   "metadata": {},
   "outputs": [],
   "source": [
    "batch_size = 64\n",
    "\n",
    "train_loader = DataLoader(train_dataset, batch_size=batch_size, shuffle=True, pin_memory=True)\n",
    "test_loader = DataLoader(test_dataset, batch_size=batch_size, shuffle=False, pin_memory=True)"
   ]
  },
  {
   "cell_type": "code",
   "execution_count": 25,
   "id": "d29096be-d93d-4328-9a19-a2ce8d7d487b",
   "metadata": {},
   "outputs": [
    {
     "name": "stdout",
     "output_type": "stream",
     "text": [
      "torch.Size([64, 1, 28, 28])\n",
      "torch.Size([64])\n"
     ]
    }
   ],
   "source": [
    "for images, labels in train_loader:\n",
    "    print(images.shape)  # [batch_size, 1, 28, 28]\n",
    "    print(labels.shape)  # [batch_size]\n",
    "    break\n"
   ]
  },
  {
   "cell_type": "code",
   "execution_count": 26,
   "id": "ae1511f1-d296-471d-b962-7c3f4b775e85",
   "metadata": {},
   "outputs": [],
   "source": [
    "# Class labels\n",
    "classes = ('T-shirt/top', 'Trouser', 'Pullover', 'Dress', 'Coat',\n",
    "        'Sandal', 'Shirt', 'Sneaker', 'Bag', 'Ankle Boot')"
   ]
  },
  {
   "cell_type": "code",
   "execution_count": 27,
   "id": "37304acb-5c4f-466a-a286-abd3f0ddd9bc",
   "metadata": {},
   "outputs": [],
   "source": [
    "# plot some images"
   ]
  },
  {
   "cell_type": "code",
   "execution_count": 28,
   "id": "9d22cc2a-3aa0-4238-bf4e-7d7e5b996f66",
   "metadata": {},
   "outputs": [],
   "source": [
    "device = torch.device('cuda' if torch.cuda.is_available() else 'cpu')\n",
    "\n",
    "input_size = 28*28\n",
    "hidden_size = 256\n",
    "output_size = 10\n",
    "\n",
    "model = MLP(input_size, hidden_size, output_size).to(device)\n",
    "criterion = nn.CrossEntropyLoss()  # works with raw logits\n",
    "optimizer = torch.optim.SGD(model.parameters(), lr=0.03)\n"
   ]
  },
  {
   "cell_type": "code",
   "execution_count": 29,
   "id": "4e77270c-23a3-42fd-a960-718d3fd0fe86",
   "metadata": {},
   "outputs": [
    {
     "name": "stdout",
     "output_type": "stream",
     "text": [
      "Epoch [1/5], Loss: 0.6876\n",
      "Epoch [2/5], Loss: 0.4478\n",
      "Epoch [3/5], Loss: 0.4019\n",
      "Epoch [4/5], Loss: 0.3732\n",
      "Epoch [5/5], Loss: 0.3534\n"
     ]
    }
   ],
   "source": [
    "num_epochs = 5\n",
    "\n",
    "for epoch in range(num_epochs):\n",
    "    model.train()\n",
    "    running_loss = 0.0\n",
    "\n",
    "    for images, labels in train_loader:\n",
    "        images, labels = images.to(device), labels.to(device)\n",
    "\n",
    "        # forward pass\n",
    "        outputs = model(images)\n",
    "        loss = criterion(outputs, labels)\n",
    "\n",
    "        # backward pass\n",
    "        optimizer.zero_grad()\n",
    "        loss.backward()\n",
    "        optimizer.step()\n",
    "\n",
    "        running_loss += loss.item()\n",
    "\n",
    "    print(f\"Epoch [{epoch+1}/{num_epochs}], Loss: {running_loss/len(train_loader):.4f}\")\n"
   ]
  },
  {
   "cell_type": "code",
   "execution_count": 19,
   "id": "3acbaa8d-b178-4fa0-85ff-f6f2123addb5",
   "metadata": {},
   "outputs": [
    {
     "data": {
      "text/plain": [
       "device(type='cuda')"
      ]
     },
     "execution_count": 19,
     "metadata": {},
     "output_type": "execute_result"
    }
   ],
   "source": [
    "device"
   ]
  },
  {
   "cell_type": "code",
   "execution_count": 35,
   "id": "76bf7ea7-803f-4507-8f60-c1d15948d879",
   "metadata": {},
   "outputs": [],
   "source": [
    "# Get one batch from validation_loader\n",
    "images, labels = next(iter(test_loader))  # images shape: [batch_size, 1, 28, 28]\n",
    "\n",
    "# Pick the first image in the batch\n",
    "img = images[0].to(device).unsqueeze(0)  # add batch dimension: [1, 1, 28, 28]\n",
    "true_label_idx = labels[0].item()\n"
   ]
  },
  {
   "cell_type": "code",
   "execution_count": 36,
   "id": "b7a9fa87-48f9-4544-8c76-cd535cb88c1c",
   "metadata": {},
   "outputs": [],
   "source": [
    "model.eval()  # evaluation mode\n",
    "with torch.no_grad():  # no gradient computation\n",
    "    logits = model(img)                  # raw outputs\n",
    "    probs = torch.softmax(logits, dim=1) # probabilities\n",
    "    pred_idx = torch.argmax(probs, dim=1).item()\n"
   ]
  },
  {
   "cell_type": "code",
   "execution_count": 42,
   "id": "a0f9ad42-9d92-4f1f-a96a-15a2faf074bb",
   "metadata": {},
   "outputs": [
    {
     "name": "stdout",
     "output_type": "stream",
     "text": [
      "True class: Ankle Boot\n",
      "Predicted class: Ankle Boot, probability: 0.9965\n"
     ]
    }
   ],
   "source": [
    "\n",
    "pred_class = classes[pred_idx]\n",
    "true_class = classes[true_label_idx]\n",
    "\n",
    "print(f'True class: {true_class}')\n",
    "print(f'Predicted class: {pred_class}, probability: {probs[0, pred_idx]:.4f}')\n"
   ]
  },
  {
   "cell_type": "code",
   "execution_count": 43,
   "id": "84b399a4-b98c-4489-ba36-3e8829973f78",
   "metadata": {},
   "outputs": [
    {
     "data": {
      "image/png": "[encoded data removed]",
      "text/plain": [
       "<Figure size 640x480 with 1 Axes>"
      ]
     },
     "metadata": {},
     "output_type": "display_data"
    }
   ],
   "source": [
    "import matplotlib.pyplot as plt\n",
    "import torch\n",
    "\n",
    "# Get one batch from validation_loader\n",
    "images, labels = next(iter(test_loader))\n",
    "\n",
    "# Pick the first image\n",
    "img = images[0].to(device).unsqueeze(0)  # add batch dimension: [1,1,28,28]\n",
    "true_label_idx = labels[0].item()\n",
    "\n",
    "# Forward pass\n",
    "model.eval()\n",
    "with torch.no_grad():\n",
    "    logits = model(img)\n",
    "    probs = torch.softmax(logits, dim=1)\n",
    "    pred_idx = torch.argmax(probs, dim=1).item()\n",
    "\n",
    "classes = ('T-shirt/top', 'Trouser', 'Pullover', 'Dress', 'Coat',\n",
    "           'Sandal', 'Shirt', 'Sneaker', 'Bag', 'Ankle Boot')\n",
    "\n",
    "# Display the image\n",
    "plt.imshow(images[0].squeeze(), cmap='gray')\n",
    "plt.title(f\"True: {classes[true_label_idx]}\\nPred: {classes[pred_idx]}, Prob: {probs[0, pred_idx]:.4f}\")\n",
    "plt.axis('off')\n",
    "plt.show()\n"
   ]
  },
  {
   "cell_type": "code",
   "execution_count": null,
   "id": "079a5bfd-8d30-4c11-be19-efe83a7fcb55",
   "metadata": {},
   "outputs": [],
   "source": [
    "    "
   ]
  }
 ],
 "metadata": {
  "kernelspec": {
   "display_name": "Python 3 (ipykernel)",
   "language": "python",
   "name": "python3"
  },
  "language_info": {
   "codemirror_mode": {
    "name": "ipython",
    "version": 3
   },
   "file_extension": ".py",
   "mimetype": "text/x-python",
   "name": "python",
   "nbconvert_exporter": "python",
   "pygments_lexer": "ipython3",
   "version": "3.11.0rc1"
  }
 },
 "nbformat": 4,
 "nbformat_minor": 5
}
