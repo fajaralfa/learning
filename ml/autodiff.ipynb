{
 "cells": [
  {
   "cell_type": "code",
   "execution_count": 1,
   "id": "eb081f27-70ed-47a9-bc4d-c9c1ff12c974",
   "metadata": {},
   "outputs": [],
   "source": [
    "class Scalar():\n",
    "    def __init__(self, data: int, _children=(), _op=''):\n",
    "        self.data = data\n",
    "        self.grad = 0\n",
    "        self._backward = lambda: None\n",
    "        self._prev = set(_children)\n",
    "        self._op = _op\n",
    "        \n",
    "    def __add__(self, other: 'Scalar') -> 'Scalar':\n",
    "        other = other if isinstance(other, Scalar) else Scalar(other)\n",
    "        out = Scalar((self.data + other.data), (self, other), '+')\n",
    "\n",
    "        def _backward():\n",
    "            self.grad += out.grad\n",
    "            other.grad += out.grad\n",
    "\n",
    "        out._backward = _backward\n",
    "        return out\n",
    "    \n",
    "    def __radd__(self, other):\n",
    "        return self + other\n",
    "\n",
    "    def __sub__(self, other):\n",
    "        other = other if isinstance(other, Scalar) else Scalar(other)\n",
    "        out = Scalar(self.data - other.data, (self, other), '-')\n",
    "    \n",
    "        def _backward():\n",
    "            # d(self - other)/dself = +1\n",
    "            # d(self - other)/dother = -1\n",
    "            self.grad += 1 * out.grad\n",
    "            other.grad += -1 * out.grad\n",
    "    \n",
    "        out._backward = _backward\n",
    "        return out\n",
    "    \n",
    "    def __rsub__(self, other):\n",
    "        # handles cases like 5 - Scalar(3)\n",
    "        other = other if isinstance(other, Scalar) else Scalar(other)\n",
    "        return other - self\n",
    "\n",
    "    \n",
    "    def __mul__(self, other):\n",
    "        other = other if isinstance(other, Scalar) else Scalar(other)\n",
    "        out = Scalar((self.data * other.data), (self, other), '*')\n",
    "\n",
    "        def _backward():\n",
    "            self.grad += other.data * out.grad\n",
    "            other.grad += self.data * out.grad\n",
    "\n",
    "        out._backward = _backward\n",
    "        return out\n",
    "\n",
    "    def __rmul__(self, other):\n",
    "        return self * other\n",
    "\n",
    "    def relu(self):\n",
    "        out = Scalar(max(0, self.data), (self,), 'relu')\n",
    "        def _backward():\n",
    "            self.grad += out.grad * (1 if self.data > 0 else 0)\n",
    "        out._backward = _backward\n",
    "        return out\n",
    "\n",
    "    def backward(self):\n",
    "        topo = []\n",
    "        visited = set()\n",
    "        def build_topo(v):\n",
    "            if v not in visited:\n",
    "                visited.add(v)\n",
    "                for child in v._prev:\n",
    "                    build_topo(child)\n",
    "                topo.append(v)\n",
    "        build_topo(self)\n",
    "\n",
    "        self.grad = 1\n",
    "        for v in reversed(topo):\n",
    "            v._backward()\n",
    "            \n",
    "    def zero_grad(self):\n",
    "        topo = []\n",
    "        visited = set()\n",
    "        def build_topo(v):\n",
    "            if v not in visited:\n",
    "                visited.add(v)\n",
    "                for child in v._prev:\n",
    "                    build_topo(child)\n",
    "                topo.append(v)\n",
    "        build_topo(self)\n",
    "    \n",
    "        for v in topo:\n",
    "            v.grad = 0\n",
    "\n",
    "    def __repr__(self):\n",
    "        return f\"Scalar(data={self.data}, grad={self.grad}{f', {self._op}' if len(self._op) > 0 else ''})\""
   ]
  },
  {
   "cell_type": "code",
   "execution_count": 2,
   "id": "82536982-64b8-462c-b1af-242690c15166",
   "metadata": {},
   "outputs": [
    {
     "data": {
      "text/plain": [
       "(Scalar(data=4, grad=0, *), Scalar(data=2, grad=0), Scalar(data=6, grad=0, +))"
      ]
     },
     "execution_count": 2,
     "metadata": {},
     "output_type": "execute_result"
    }
   ],
   "source": [
    "x = Scalar(2)\n",
    "y = x * 2\n",
    "z = x + y\n",
    "y, x, z"
   ]
  },
  {
   "cell_type": "code",
   "execution_count": 3,
   "id": "0eb9bb45-3850-433d-a58b-7de55d2d9c41",
   "metadata": {},
   "outputs": [
    {
     "data": {
      "text/plain": [
       "(Scalar(data=2, grad=3), Scalar(data=4, grad=1, *), Scalar(data=6, grad=1, +))"
      ]
     },
     "execution_count": 3,
     "metadata": {},
     "output_type": "execute_result"
    }
   ],
   "source": [
    "z.backward()\n",
    "x, y, z"
   ]
  },
  {
   "cell_type": "code",
   "execution_count": 4,
   "id": "a37086ce-b8fa-4c74-9c19-d533202d492b",
   "metadata": {},
   "outputs": [
    {
     "data": {
      "text/plain": [
       "(Scalar(data=2, grad=0), Scalar(data=4, grad=0, *), Scalar(data=6, grad=0, +))"
      ]
     },
     "execution_count": 4,
     "metadata": {},
     "output_type": "execute_result"
    }
   ],
   "source": [
    "z.zero_grad()\n",
    "x, y, z"
   ]
  },
  {
   "cell_type": "code",
   "execution_count": 5,
   "id": "51a10fdd-ccdc-4908-874f-6ec24ba97111",
   "metadata": {},
   "outputs": [],
   "source": [
    "import torch"
   ]
  },
  {
   "cell_type": "code",
   "execution_count": 6,
   "id": "4f23d7f5-526a-483e-8073-e38cc6494f04",
   "metadata": {},
   "outputs": [
    {
     "data": {
      "text/plain": [
       "(tensor(2., requires_grad=True),\n",
       " tensor(5., requires_grad=True),\n",
       " tensor(7., grad_fn=<AddBackward0>))"
      ]
     },
     "execution_count": 6,
     "metadata": {},
     "output_type": "execute_result"
    }
   ],
   "source": [
    "xt, yt = torch.tensor(2., requires_grad=True), torch.tensor(5., requires_grad=True)\n",
    "zt = xt + yt\n",
    "xt, yt, zt"
   ]
  },
  {
   "cell_type": "code",
   "execution_count": 7,
   "id": "82cffa61-c686-43af-8f00-39a34abe48f7",
   "metadata": {},
   "outputs": [
    {
     "data": {
      "text/plain": [
       "(tensor(1.), tensor(1.))"
      ]
     },
     "execution_count": 7,
     "metadata": {},
     "output_type": "execute_result"
    }
   ],
   "source": [
    "zt.backward()\n",
    "xt.grad, yt.grad"
   ]
  },
  {
   "cell_type": "code",
   "execution_count": 13,
   "id": "06211ced-83ec-418f-9143-d491249de68e",
   "metadata": {},
   "outputs": [],
   "source": [
    "import random\n",
    "class Neuron:\n",
    "    def __init__(self, nin):\n",
    "        import random\n",
    "        self.w = [Scalar(random.uniform(-1, 1)) for _ in range(nin)]\n",
    "        self.b = Scalar(0)\n",
    "\n",
    "    def __call__(self, x):\n",
    "        # x is list of Scalars\n",
    "        act = sum((wi * xi for wi, xi in zip(self.w, x)), self.b)\n",
    "        out = act.relu()\n",
    "        return out\n",
    "\n",
    "    def parameters(self):\n",
    "        return self.w + [self.b]\n"
   ]
  },
  {
   "cell_type": "code",
   "execution_count": 14,
   "id": "514c7558-ee1a-44b7-b699-e16e6bd8161d",
   "metadata": {},
   "outputs": [],
   "source": [
    "class Layer:\n",
    "    def __init__(self, nin, nout):\n",
    "        self.neurons = [Neuron(nin) for _ in range(nout)]\n",
    "    \n",
    "    def __call__(self, x):\n",
    "        # Call each neuron\n",
    "        outs = [n(x) for n in self.neurons]\n",
    "        # If this is the last layer, just return list\n",
    "        return outs\n",
    "    \n",
    "    def parameters(self):\n",
    "        # Flatten all neuron parameters\n",
    "        return [p for n in self.neurons for p in n.parameters()]\n"
   ]
  },
  {
   "cell_type": "code",
   "execution_count": 15,
   "id": "5403bc91-54e4-4e51-95a7-0e2eb433d613",
   "metadata": {},
   "outputs": [],
   "source": [
    "class MLP:\n",
    "    def __init__(self, nin, nouts):\n",
    "        # nouts = list like [16, 16, 1]\n",
    "        sizes = [nin] + nouts\n",
    "        self.layers = [Layer(sizes[i], sizes[i+1]) for i in range(len(nouts))]\n",
    "    \n",
    "    def __call__(self, x):\n",
    "        for layer in self.layers:\n",
    "            x = layer(x)\n",
    "        return x[0] if len(x) == 1 else x\n",
    "    \n",
    "    def parameters(self):\n",
    "        return [p for layer in self.layers for p in layer.parameters()]\n"
   ]
  },
  {
   "cell_type": "code",
   "execution_count": 16,
   "id": "f171e857-e08c-4c65-b82b-2bb8f7211e30",
   "metadata": {},
   "outputs": [
    {
     "name": "stdout",
     "output_type": "stream",
     "text": [
      "step 0: loss = 1.3365\n",
      "step 10: loss = 0.1020\n",
      "step 20: loss = 0.0009\n",
      "step 30: loss = 0.0000\n",
      "step 40: loss = 0.0000\n",
      "step 50: loss = 0.0000\n",
      "step 60: loss = 0.0000\n",
      "step 70: loss = 0.0000\n",
      "step 80: loss = 0.0000\n",
      "step 90: loss = 0.0000\n"
     ]
    }
   ],
   "source": [
    "# Data: XOR truth table\n",
    "xs = [\n",
    "    [Scalar(0), Scalar(0)],\n",
    "    [Scalar(0), Scalar(1)],\n",
    "    [Scalar(1), Scalar(0)],\n",
    "    [Scalar(1), Scalar(1)]\n",
    "]\n",
    "ys = [Scalar(0), Scalar(1), Scalar(1), Scalar(0)]\n",
    "\n",
    "# Build network: 2 inputs, two hidden layers (4 each), 1 output\n",
    "net = MLP(2, [4, 4, 1])\n",
    "\n",
    "# Training\n",
    "for k in range(100):\n",
    "    # Forward\n",
    "    ypred = [net(x) for x in xs]\n",
    "    loss = sum((yout - ygt) * (yout - ygt) for ygt, yout in zip(ys, ypred))\n",
    "\n",
    "    # Zero gradients\n",
    "    for p in net.parameters():\n",
    "        p.grad = 0\n",
    "    loss.backward()\n",
    "\n",
    "    # Simple SGD step\n",
    "    for p in net.parameters():\n",
    "        p.data -= 0.1 * p.grad\n",
    "\n",
    "    if k % 10 == 0:\n",
    "        print(f\"step {k}: loss = {loss.data:.4f}\")\n"
   ]
  },
  {
   "cell_type": "code",
   "execution_count": 17,
   "id": "20752a59-a533-46f2-a875-f00805d41176",
   "metadata": {},
   "outputs": [
    {
     "name": "stdout",
     "output_type": "stream",
     "text": [
      "[0, 0] -> 1.898219760812156e-07\n",
      "[0, 1] -> 0.9999999681630977\n",
      "[1, 0] -> 0.9999999733241657\n",
      "[1, 1] -> 0\n"
     ]
    }
   ],
   "source": [
    "for x in xs:\n",
    "    print([xi.data for xi in x], '->', net(x).data)"
   ]
  },
  {
   "cell_type": "code",
   "execution_count": null,
   "id": "27e05513-70d5-469e-b5ea-2245a68ea32b",
   "metadata": {},
   "outputs": [],
   "source": []
  },
  {
   "cell_type": "code",
   "execution_count": null,
   "id": "2ec0039f-b3cf-41cc-ab50-11fb833d2d69",
   "metadata": {},
   "outputs": [],
   "source": []
  }
 ],
 "metadata": {
  "kernelspec": {
   "display_name": "Python 3 (ipykernel)",
   "language": "python",
   "name": "python3"
  },
  "language_info": {
   "codemirror_mode": {
    "name": "ipython",
    "version": 3
   },
   "file_extension": ".py",
   "mimetype": "text/x-python",
   "name": "python",
   "nbconvert_exporter": "python",
   "pygments_lexer": "ipython3",
   "version": "3.11.0rc1"
  }
 },
 "nbformat": 4,
 "nbformat_minor": 5
}
