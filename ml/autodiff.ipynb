{
 "cells": [
  {
   "cell_type": "code",
   "execution_count": 48,
   "id": "eb081f27-70ed-47a9-bc4d-c9c1ff12c974",
   "metadata": {},
   "outputs": [],
   "source": [
    "class Scalar():\n",
    "    def __init__(self, data: int, _children=(), _op=''):\n",
    "        self.data = data\n",
    "        self.grad = 0\n",
    "        self._backward = lambda: None\n",
    "        self._prev = set(_children)\n",
    "        self._op = _op\n",
    "        \n",
    "    def __add__(self, other: Scalar | int):\n",
    "        other = other if isinstance(other, Scalar) else Scalar(other)\n",
    "        out = Scalar((self.data + other.data), (self, other), '+')\n",
    "\n",
    "        def _backward():\n",
    "            self.grad += out.grad\n",
    "            other.grad += out.grad\n",
    "\n",
    "        out._backward = _backward\n",
    "        return out\n",
    "    \n",
    "    def __radd__(self, other):\n",
    "        return self + other \n",
    "\n",
    "    def backward(self):\n",
    "        topo = []\n",
    "        visited = set()\n",
    "        def build_topo(v):\n",
    "            if v not in visited:\n",
    "                visited.add(v)\n",
    "                for child in v._prev:\n",
    "                    build_topo(child)\n",
    "                topo.append(v)\n",
    "        build_topo(self)\n",
    "\n",
    "        self.grad = 1\n",
    "        for v in reversed(topo):\n",
    "            v._backward()\n",
    "\n",
    "    def __repr__(self):\n",
    "        return f\"Scalar(data={self.data}, grad={self.grad}{f', {self._op}' if len(self._op) > 0 else ''})\""
   ]
  },
  {
   "cell_type": "code",
   "execution_count": 49,
   "id": "82536982-64b8-462c-b1af-242690c15166",
   "metadata": {},
   "outputs": [
    {
     "data": {
      "text/plain": [
       "(Scalar(data=7, grad=0, +), Scalar(data=5, grad=0), Scalar(data=2, grad=0))"
      ]
     },
     "execution_count": 49,
     "metadata": {},
     "output_type": "execute_result"
    }
   ],
   "source": [
    "x = Scalar(2)\n",
    "y = Scalar(5)\n",
    "z = x + y\n",
    "z, y, x"
   ]
  },
  {
   "cell_type": "code",
   "execution_count": 50,
   "id": "0eb9bb45-3850-433d-a58b-7de55d2d9c41",
   "metadata": {},
   "outputs": [
    {
     "data": {
      "text/plain": [
       "(Scalar(data=7, grad=1, +), Scalar(data=5, grad=1), Scalar(data=2, grad=1))"
      ]
     },
     "execution_count": 50,
     "metadata": {},
     "output_type": "execute_result"
    }
   ],
   "source": [
    "z.backward()\n",
    "z, y, x"
   ]
  },
  {
   "cell_type": "code",
   "execution_count": null,
   "id": "51a10fdd-ccdc-4908-874f-6ec24ba97111",
   "metadata": {},
   "outputs": [],
   "source": []
  }
 ],
 "metadata": {
  "kernelspec": {
   "display_name": "Python 3 (ipykernel)",
   "language": "python",
   "name": "python3"
  },
  "language_info": {
   "codemirror_mode": {
    "name": "ipython",
    "version": 3
   },
   "file_extension": ".py",
   "mimetype": "text/x-python",
   "name": "python",
   "nbconvert_exporter": "python",
   "pygments_lexer": "ipython3",
   "version": "3.11.0rc1"
  }
 },
 "nbformat": 4,
 "nbformat_minor": 5
}
