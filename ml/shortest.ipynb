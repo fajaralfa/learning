{
 "cells": [
  {
   "cell_type": "code",
   "execution_count": 3,
   "id": "d3fb0bc0-08a9-4e43-a54b-8696a613dc32",
   "metadata": {},
   "outputs": [
    {
     "name": "stdout",
     "output_type": "stream",
     "text": [
      "Epoch 1/5, loss 0.712099552154541 done\n",
      "Epoch 2/5, loss 0.439251571893692 done\n",
      "Epoch 3/5, loss 0.3553428649902344 done\n",
      "Epoch 4/5, loss 0.46747928857803345 done\n",
      "Epoch 5/5, loss 0.366666316986084 done\n"
     ]
    },
    {
     "data": {
      "image/png": "[encoded data removed]",
      "text/plain": [
       "<Figure size 640x480 with 1 Axes>"
      ]
     },
     "metadata": {},
     "output_type": "display_data"
    }
   ],
   "source": [
    "import torch\n",
    "import torch.nn as nn\n",
    "import torch.nn.functional as F\n",
    "from torch.utils.data import DataLoader\n",
    "from torchvision import datasets, transforms\n",
    "import matplotlib.pyplot as plt\n",
    "\n",
    "# 1️⃣ Hyperparameters\n",
    "input_size = 28*28\n",
    "hidden_size = 256\n",
    "output_size = 10\n",
    "batch_size = 64\n",
    "epochs = 5\n",
    "device = 'cuda' if torch.cuda.is_available() else 'cpu'\n",
    "\n",
    "# 2️⃣ Dataset\n",
    "transform = transforms.Compose([transforms.ToTensor(), transforms.Normalize((0.5,), (0.5,))])\n",
    "train_dataset = datasets.FashionMNIST(root='./data', train=True, download=True, transform=transform)\n",
    "val_dataset = datasets.FashionMNIST(root='./data', train=False, download=True, transform=transform)\n",
    "train_loader = DataLoader(train_dataset, batch_size=batch_size, shuffle=True)\n",
    "val_loader = DataLoader(val_dataset, batch_size=batch_size)\n",
    "\n",
    "# 3️⃣ Model\n",
    "class MLP(nn.Module):\n",
    "    def __init__(self): \n",
    "        super().__init__()\n",
    "        self.fc1 = nn.Linear(input_size, hidden_size)\n",
    "        self.fc2 = nn.Linear(hidden_size, hidden_size)\n",
    "        self.fc3 = nn.Linear(hidden_size, output_size)\n",
    "    def forward(self, x):\n",
    "        x = x.view(x.size(0), -1)\n",
    "        x = F.relu(self.fc1(x))\n",
    "        x = F.relu(self.fc2(x))\n",
    "        return self.fc3(x)\n",
    "\n",
    "model = MLP().to(device)\n",
    "optimizer = torch.optim.SGD(model.parameters(), lr=0.001, momentum=0.9)\n",
    "loss_fn = nn.CrossEntropyLoss()\n",
    "classes = ('T-shirt/top', 'Trouser', 'Pullover', 'Dress', 'Coat',\n",
    "           'Sandal', 'Shirt', 'Sneaker', 'Bag', 'Ankle Boot')\n",
    "\n",
    "# 4️⃣ Training loop\n",
    "for epoch in range(epochs):\n",
    "    model.train()\n",
    "    for X, y in train_loader:\n",
    "        X, y = X.to(device), y.to(device)\n",
    "        optimizer.zero_grad()\n",
    "        loss = loss_fn(model(X), y)\n",
    "        loss.backward()\n",
    "        optimizer.step()\n",
    "    print(f'Epoch {epoch+1}/{epochs}, loss {loss} done')\n",
    "\n",
    "# 5️⃣ Inference on first validation image\n",
    "model.eval()\n",
    "images, labels = next(iter(val_loader))\n",
    "img = images[0].unsqueeze(0).to(device)\n",
    "with torch.no_grad():\n",
    "    logits = model(img)\n",
    "    probs = torch.softmax(logits, dim=1)\n",
    "    pred_idx = torch.argmax(probs, dim=1).item()\n",
    "true_idx = labels[0].item()\n",
    "\n",
    "# 6️⃣ Display\n",
    "plt.imshow(images[0].squeeze(), cmap='gray')\n",
    "plt.title(f\"True: {classes[true_idx]}\\nPred: {classes[pred_idx]}, Prob: {probs[0, pred_idx]:.4f}\")\n",
    "plt.axis('off')\n",
    "plt.show()\n"
   ]
  },
  {
   "cell_type": "code",
   "execution_count": 5,
   "id": "6fa44699-1695-467d-9754-edb1788248e3",
   "metadata": {},
   "outputs": [
    {
     "data": {
      "text/plain": [
       "<matplotlib.image.AxesImage at 0x7e6981d18f10>"
      ]
     },
     "execution_count": 5,
     "metadata": {},
     "output_type": "execute_result"
    },
    {
     "data": {
      "image/png": "[encoded data removed]",
      "text/plain": [
       "<Figure size 640x480 with 1 Axes>"
      ]
     },
     "metadata": {},
     "output_type": "display_data"
    }
   ],
   "source": [
    "plt.imshow(images[1].squeeze(), cmap='gray')"
   ]
  },
  {
   "cell_type": "code",
   "execution_count": 15,
   "id": "23fd244d-a9ab-4941-a244-c63fc0e8d84f",
   "metadata": {},
   "outputs": [
    {
     "name": "stdout",
     "output_type": "stream",
     "text": [
      "Actual Pullover preds Pullover\n"
     ]
    }
   ],
   "source": [
    "with torch.no_grad():\n",
    "    probs = torch.softmax(model(images[1].to(device)), dim=1)\n",
    "    pred_idx = torch.argmax(probs, dim=1).item()\n",
    "    actual_idx = labels[1].item()\n",
    "    print(f\"Actual {classes[actual_idx]} preds {classes[pred_idx]}\")"
   ]
  },
  {
   "cell_type": "code",
   "execution_count": 16,
   "id": "762226db-b205-4cb6-b001-63393c8059ef",
   "metadata": {},
   "outputs": [],
   "source": [
    "model_path = 'model'\n",
    "torch.save(model.state_dict(), model_path)"
   ]
  },
  {
   "cell_type": "code",
   "execution_count": null,
   "id": "3507d93d-6499-49d5-991e-592a65ea3aaf",
   "metadata": {},
   "outputs": [],
   "source": []
  }
 ],
 "metadata": {
  "kernelspec": {
   "display_name": "Python 3 (ipykernel)",
   "language": "python",
   "name": "python3"
  },
  "language_info": {
   "codemirror_mode": {
    "name": "ipython",
    "version": 3
   },
   "file_extension": ".py",
   "mimetype": "text/x-python",
   "name": "python",
   "nbconvert_exporter": "python",
   "pygments_lexer": "ipython3",
   "version": "3.11.0rc1"
  }
 },
 "nbformat": 4,
 "nbformat_minor": 5
}
